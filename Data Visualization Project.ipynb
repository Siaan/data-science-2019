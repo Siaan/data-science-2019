{
 "cells": [
  {
   "cell_type": "markdown",
   "metadata": {},
   "source": [
    "Basically our objective is going to be to build an application to figure out where to eat!"
   ]
  },
  {
   "cell_type": "markdown",
   "metadata": {},
   "source": [
    "# Requirements for the Data Analysis"
   ]
  },
  {
   "cell_type": "markdown",
   "metadata": {},
   "source": [
    "requests==2.18.4 \n",
    "\n",
    "API_KEY = YlHRdziZQHwuA-zsqe8cdJd24fSpn6ImQUVnK2ifVExw52A8o6kSnjw2mxtIR-3X0U0fBdVBWDppPv7MWyWr4xoBSeFjBgz9k5yP7S_MMxKTDFWqKOATeUTHRxMjXHYx\n",
    "\n",
    "pandas==0.20.1\n",
    "\n",
    "geojsonio==0.0.3\n",
    "\n",
    "Shapely==1.5.17.post1\n",
    "\n",
    "CLIENT_ID = dLQC-YFBm9Sjlrw_1z9OTQ"
   ]
  },
  {
   "cell_type": "markdown",
   "metadata": {},
   "source": [
    "# Imports"
   ]
  },
  {
   "cell_type": "markdown",
   "metadata": {},
   "source": [
    "<img src=\"./Yelp_Logo.png\" width=500px></img>\n",
    "\n",
    "These code snippets were modified from the sample code provided by Yelp."
   ]
  },
  {
   "cell_type": "code",
   "execution_count": 2,
   "metadata": {},
   "outputs": [],
   "source": [
    "from __future__ import print_function\n",
    "\n",
    "#import argparse\n",
    "import json\n",
    "import pprint\n",
    "import requests\n",
    "import sys\n",
    "import urllib\n",
    "\n",
    "#Code based off of the sample.py from YELP's API \n",
    "\n",
    "try:\n",
    "    # For Python 3.0 and later\n",
    "    from urllib.error import HTTPError\n",
    "    from urllib.parse import quote\n",
    "    from urllib.parse import urlencode\n",
    "except ImportError:\n",
    "    # Fall back to Python 2's urllib2 and urllib\n",
    "    from urllib2 import HTTPError\n",
    "    from urllib import quote\n",
    "    from urllib import urlencode\n",
    "    \n",
    "API_KEY= \"YlHRdziZQHwuA-zsqe8cdJd24fSpn6ImQUVnK2ifVExw52A8o6kSnjw2mxtIR-3X0U0fBdVBWDppPv7MWyWr4xoBSeFjBgz9k5yP7S_MMxKTDFWqKOATeUTHRxMjXHYx\"\n",
    "\n",
    "import pandas as pd\n",
    "from PIL import Image"
   ]
  },
  {
   "cell_type": "code",
   "execution_count": 4,
   "metadata": {},
   "outputs": [],
   "source": [
    "# API constants, you shouldn't have to change these.\n",
    "API_HOST = 'https://api.yelp.com'\n",
    "SEARCH_PATH = '/v3/businesses/search'\n",
    "BUSINESS_PATH = '/v3/businesses/'  # Business ID will come after slash.\n",
    "REVIEW_PATH = '/v3/businesses/{}/reviews'\n",
    "\n",
    "# Defaults for our simple example.\n",
    "DEFAULT_TERM = 'dinner'\n",
    "DEFAULT_LOCATION = 'San Francisco, CA'\n",
    "SEARCH_LIMIT = 10\n",
    "\n",
    "def request(host, path, api_key, url_params=None):\n",
    "    \"\"\"Given your API_KEY, send a GET request to the API.\n",
    "    Args:\n",
    "        host (str): The domain host of the API.\n",
    "        path (str): The path of the API after the domain.\n",
    "        API_KEY (str): Your API Key.\n",
    "        url_params (dict): An optional set of query parameters in the request.\n",
    "    Returns:\n",
    "        dict: The JSON response from the request.\n",
    "    Raises:\n",
    "        HTTPError: An error occurs from the HTTP request.\n",
    "    \"\"\"\n",
    "    url_params = url_params or {}\n",
    "    url = '{0}{1}'.format(host, quote(path.encode('utf8')))\n",
    "    headers = {\n",
    "        'Authorization': 'Bearer %s' % api_key,\n",
    "    }\n",
    "\n",
    "    print(u'Querying {0} ...'.format(url))\n",
    "\n",
    "    response = requests.request('GET', url, headers=headers, params=url_params)\n",
    "\n",
    "    return response.json()\n",
    "\n",
    "\n",
    "def search(api_key, term, location, limit=SEARCH_LIMIT):\n",
    "    \"\"\"Query the Search API by a search term and location.\n",
    "    \n",
    "    Can add additional terms:\n",
    "    \n",
    "        sort_by (string) Optional. Suggestion to the search algorithm that the results be sorted by one of the these\n",
    "            modes: best_match, rating, review_count or distance. The default is best_match. Note that specifying the\n",
    "            sort_by is a suggestion (not strictly enforced) to Yelp's search, which considers multiple input parameters\n",
    "            to return the most relevant results. For example, the rating sort is not strictly sorted by the rating value,\n",
    "            but by an adjusted rating value that takes into account the number of ratings, similar to a Bayesian average. \n",
    "            This is to prevent skewing results to businesses with a single review.\n",
    "            \n",
    "        price (string) Optional. Pricing levels to filter the search result with: 1 = $, 2 = $$, 3 = $$$, 4 = $$$$. \n",
    "            The price filter can be a list of comma delimited pricing levels. For example, \"1, 2, 3\" will filter the\n",
    "            results to show the ones that are $, $$, or $$$.\n",
    "            \n",
    "        open_now (boolean) Optional. Default to false. When set to true, only return the businesses open now.\n",
    "            Notice that open_at and open_now cannot be used together.\n",
    "    \n",
    "    Args:\n",
    "        term (str): The search term passed to the API.\n",
    "        location (str): The search location passed to the API.\n",
    "    Returns:\n",
    "        dict: The JSON response from the request.\n",
    "    \"\"\"\n",
    "\n",
    "    url_params = {\n",
    "        'term': term.replace(' ', '+'),\n",
    "        'location': location.replace(' ', '+'),\n",
    "        'limit': limit\n",
    "    }\n",
    "    return request(API_HOST, SEARCH_PATH, api_key, url_params=url_params)\n",
    "\n",
    "\n",
    "def get_business(API_KEY, business_id):\n",
    "    \"\"\"Query the Business API by a business ID.\n",
    "    Args:\n",
    "        business_id (str): The ID of the business to query.\n",
    "    Returns:\n",
    "        dict: The JSON response from the request.\n",
    "    \"\"\"\n",
    "    business_path = BUSINESS_PATH + business_id\n",
    "\n",
    "    return request(API_HOST, business_path, API_KEY)\n",
    "\n",
    "def query_api(term, location):\n",
    "    \"\"\"Queries the API by the input values from the user.\n",
    "    Args:\n",
    "        term (str): The search term to query.\n",
    "        location (str): The location of the business to query.\n",
    "    \"\"\"\n",
    "    response = search(API_KEY, term, location)\n",
    "\n",
    "    businesses = response.get('businesses')\n",
    "\n",
    "    if not businesses:\n",
    "        print(u'No businesses for {0} in {1} found.'.format(term, location))\n",
    "        return\n",
    "\n",
    "    business_id = businesses[0]['id']\n",
    "\n",
    "    print(u'{0} businesses found, querying business info ' \\\n",
    "        'for the top result \"{1}\" ...'.format(\n",
    "            len(businesses), business_id))\n",
    "    response = get_business(API_KEY, business_id)\n",
    "\n",
    "    print(u'Result for business \"{0}\" found:'.format(business_id))\n",
    "    pprint.pprint(response, indent=2)\n",
    "    return response\n",
    "\n",
    "def query_api_limits(term, location, num_limit = 10):\n",
    "    \"\"\"Queries the API by the input values from the user. Will get at most num_limit businesses.\n",
    "    Args:\n",
    "        term (str): The search term to query.\n",
    "        location (str): The location of the business to query.\n",
    "        num_limit (int): Max number of businesses.\n",
    "    \"\"\"\n",
    "    response = search(API_KEY, term, location, limit=num_limit)\n",
    "\n",
    "    businesses = response.get('businesses')\n",
    "\n",
    "    if not businesses:\n",
    "        print(u'No businesses for {0} in {1} found.'.format(term, location))\n",
    "        return\n",
    "\n",
    "    business_ids = [i['id'] for i in businesses]\n",
    "    first_business_id = business_ids[0]\n",
    "    \n",
    "    print(u'{0} businesses found, querying business info ' \\\n",
    "        'for the top result \"{1}\" ...'.format(\n",
    "            len(businesses), first_business_id))\n",
    "    \n",
    "    responses = [get_business(API_KEY, business_id) for business_id in business_ids]\n",
    "    \n",
    "    return responses\n",
    "\n",
    "def get_reviews(business_id,api_key=API_KEY,limit=3):\n",
    "    \"\"\"Query the Review API by a business ID.\n",
    "    Args:\n",
    "        business_id (str): The ID of the business to query.\n",
    "    Returns:\n",
    "        dict: The JSON response from the request.\n",
    "    \"\"\"\n",
    "    review_path = REVIEW_PATH.format(business_id)\n",
    "    \n",
    "    url_params = {\n",
    "        'limit': limit\n",
    "    }\n",
    "    \n",
    "    return request(API_HOST,review_path, api_key, url_params=url_params)\n"
   ]
  },
  {
   "cell_type": "markdown",
   "metadata": {},
   "source": [
    "## Basic Query"
   ]
  },
  {
   "cell_type": "code",
   "execution_count": 5,
   "metadata": {},
   "outputs": [
    {
     "name": "stdout",
     "output_type": "stream",
     "text": [
      "Querying https://api.yelp.com/v3/businesses/search ...\n",
      "10 businesses found, querying business info for the top result \"gJg_Gh2lqrCprDzR6ZP9QQ\" ...\n",
      "Querying https://api.yelp.com/v3/businesses/gJg_Gh2lqrCprDzR6ZP9QQ ...\n",
      "Result for business \"gJg_Gh2lqrCprDzR6ZP9QQ\" found:\n",
      "{ 'alias': 'bar314-new-york',\n",
      "  'categories': [ {'alias': 'bars', 'title': 'Bars'},\n",
      "                  {'alias': 'tapasmallplates', 'title': 'Tapas/Small Plates'},\n",
      "                  {'alias': 'pizza', 'title': 'Pizza'}],\n",
      "  'coordinates': {'latitude': 40.810854, 'longitude': -73.958384},\n",
      "  'display_phone': '(646) 682-7645',\n",
      "  'hours': [ { 'hours_type': 'REGULAR',\n",
      "               'is_open_now': True,\n",
      "               'open': [ { 'day': 0,\n",
      "                           'end': '2200',\n",
      "                           'is_overnight': False,\n",
      "                           'start': '1100'},\n",
      "                         { 'day': 1,\n",
      "                           'end': '2200',\n",
      "                           'is_overnight': False,\n",
      "                           'start': '1100'},\n",
      "                         { 'day': 2,\n",
      "                           'end': '2200',\n",
      "                           'is_overnight': False,\n",
      "                           'start': '1100'},\n",
      "                         { 'day': 3,\n",
      "                           'end': '2200',\n",
      "                           'is_overnight': False,\n",
      "                           'start': '1100'},\n",
      "                         { 'day': 4,\n",
      "                           'end': '2200',\n",
      "                           'is_overnight': False,\n",
      "                           'start': '1100'},\n",
      "                         { 'day': 5,\n",
      "                           'end': '2200',\n",
      "                           'is_overnight': False,\n",
      "                           'start': '1100'},\n",
      "                         { 'day': 6,\n",
      "                           'end': '2200',\n",
      "                           'is_overnight': False,\n",
      "                           'start': '1100'}]}],\n",
      "  'id': 'gJg_Gh2lqrCprDzR6ZP9QQ',\n",
      "  'image_url': 'https://s3-media2.fl.yelpcdn.com/bphoto/fZLhJf0twzEaL6culGnw3Q/o.jpg',\n",
      "  'is_claimed': True,\n",
      "  'is_closed': False,\n",
      "  'location': { 'address1': '1260 Amsterdam Ave',\n",
      "                'address2': '',\n",
      "                'address3': None,\n",
      "                'city': 'New York',\n",
      "                'country': 'US',\n",
      "                'cross_streets': 'Morningside Dr & 122nd St',\n",
      "                'display_address': ['1260 Amsterdam Ave', 'New York, NY 10027'],\n",
      "                'state': 'NY',\n",
      "                'zip_code': '10027'},\n",
      "  'name': 'Bar314',\n",
      "  'phone': '+16466827645',\n",
      "  'photos': [ 'https://s3-media2.fl.yelpcdn.com/bphoto/fZLhJf0twzEaL6culGnw3Q/o.jpg',\n",
      "              'https://s3-media3.fl.yelpcdn.com/bphoto/ty70RZjvwWF71afsN9kBCg/o.jpg',\n",
      "              'https://s3-media3.fl.yelpcdn.com/bphoto/AFah8fmCTrmakjqMor3k5A/o.jpg'],\n",
      "  'rating': 5.0,\n",
      "  'review_count': 18,\n",
      "  'transactions': ['delivery', 'pickup'],\n",
      "  'url': 'https://www.yelp.com/biz/bar314-new-york?adjust_creative=dLQC-YFBm9Sjlrw_1z9OTQ&utm_campaign=yelp_api_v3&utm_medium=api_v3_business_lookup&utm_source=dLQC-YFBm9Sjlrw_1z9OTQ'}\n"
     ]
    }
   ],
   "source": [
    "response = query_api(\"dinner\", 'Morningside Heights, NY')"
   ]
  },
  {
   "cell_type": "markdown",
   "metadata": {},
   "source": [
    "## We see we can get the image of the site of question"
   ]
  },
  {
   "cell_type": "code",
   "execution_count": 6,
   "metadata": {},
   "outputs": [],
   "source": [
    "URL = response['image_url']\n",
    "\n",
    "with urllib.request.urlopen(URL) as url:\n",
    "    with open('temp.jpg', 'wb') as f:\n",
    "        f.write(url.read())\n",
    "\n",
    "img = Image.open('temp.jpg')\n",
    "\n",
    "img.show()"
   ]
  },
  {
   "cell_type": "markdown",
   "metadata": {},
   "source": [
    "# Getting Multiple Responses"
   ]
  },
  {
   "cell_type": "code",
   "execution_count": 7,
   "metadata": {},
   "outputs": [
    {
     "name": "stdout",
     "output_type": "stream",
     "text": [
      "Querying https://api.yelp.com/v3/businesses/search ...\n",
      "10 businesses found, querying business info for the top result \"JV5oa5-KGdiWnqrKPoxSug\" ...\n",
      "Querying https://api.yelp.com/v3/businesses/JV5oa5-KGdiWnqrKPoxSug ...\n",
      "Querying https://api.yelp.com/v3/businesses/QHYqNQhQ8NVK0RX68Y4PuQ ...\n",
      "Querying https://api.yelp.com/v3/businesses/8lLs3dsSN-Am2_EtNfbXqA ...\n",
      "Querying https://api.yelp.com/v3/businesses/vZ5-JXlJS75k8wmPNS5U5w ...\n",
      "Querying https://api.yelp.com/v3/businesses/8Qe6g3Dv5NXN1Zq-egJk9w ...\n",
      "Querying https://api.yelp.com/v3/businesses/7tTVuBwJ4LLtQ3-HHW80_A ...\n",
      "Querying https://api.yelp.com/v3/businesses/E2mNgb479B3BCfwi2G_KdQ ...\n",
      "Querying https://api.yelp.com/v3/businesses/80fvd_DsoW5XhwQIMBGvtg ...\n",
      "Querying https://api.yelp.com/v3/businesses/A46G2OAvLxFswiONB50Rrg ...\n",
      "Querying https://api.yelp.com/v3/businesses/J9xVQScnr0lYWl61_mLXMA ...\n"
     ]
    }
   ],
   "source": [
    "responses = query_api_limits(\"\", 'Morningside Heights, NY')"
   ]
  },
  {
   "cell_type": "code",
   "execution_count": 8,
   "metadata": {},
   "outputs": [],
   "source": [
    "def create_new_entry(metadata):\n",
    "    new_entry = dict()\n",
    "    new_entry['id']=metadata['id']\n",
    "    new_entry['name']=metadata['name']\n",
    "    new_entry['review_count'] =metadata['review_count']\n",
    "    new_entry['rating']=metadata['rating']\n",
    "    new_entry['latitude']=metadata['coordinates']['latitude']\n",
    "    new_entry['longitude']=metadata['coordinates']['longitude']\n",
    "    new_entry['open']=metadata['hours'][0]['is_open_now']\n",
    "    return pd.DataFrame(new_entry,index=[0])\n",
    "\n",
    "def create_category_entry(metadata):\n",
    "    new_entry = dict()\n",
    "    categories=dict()\n",
    "    new_entry['id']=metadata['id']\n",
    "    for i in range(len(metadata['categories'])):\n",
    "        categories[i]=metadata['categories'][i]\n",
    "    new_entry['categories']=categories\n",
    "    return pd.DataFrame(new_entry)\n",
    "\n",
    "def createCategoryDataFrame(responses):\n",
    "    output = pd.concat([create_category_entry(response) for response in responses])\n",
    "    output = output.reset_index(drop=True)\n",
    "    return output\n",
    "\n",
    "def creatingDataFrame(responses):\n",
    "    output= pd.concat([create_new_entry(response) for response in responses])\n",
    "    output = output.reset_index(drop=True)\n",
    "    return output"
   ]
  },
  {
   "cell_type": "code",
   "execution_count": 9,
   "metadata": {},
   "outputs": [],
   "source": [
    "tempdf = creatingDataFrame(responses)"
   ]
  },
  {
   "cell_type": "code",
   "execution_count": 10,
   "metadata": {},
   "outputs": [],
   "source": [
    "cat_tempdf = createCategoryDataFrame(responses)"
   ]
  },
  {
   "cell_type": "code",
   "execution_count": 11,
   "metadata": {},
   "outputs": [
    {
     "data": {
      "text/html": [
       "<div>\n",
       "<style scoped>\n",
       "    .dataframe tbody tr th:only-of-type {\n",
       "        vertical-align: middle;\n",
       "    }\n",
       "\n",
       "    .dataframe tbody tr th {\n",
       "        vertical-align: top;\n",
       "    }\n",
       "\n",
       "    .dataframe thead th {\n",
       "        text-align: right;\n",
       "    }\n",
       "</style>\n",
       "<table border=\"1\" class=\"dataframe\">\n",
       "  <thead>\n",
       "    <tr style=\"text-align: right;\">\n",
       "      <th></th>\n",
       "      <th>id</th>\n",
       "      <th>name</th>\n",
       "      <th>review_count</th>\n",
       "      <th>rating</th>\n",
       "      <th>latitude</th>\n",
       "      <th>longitude</th>\n",
       "      <th>open</th>\n",
       "    </tr>\n",
       "  </thead>\n",
       "  <tbody>\n",
       "    <tr>\n",
       "      <th>0</th>\n",
       "      <td>JV5oa5-KGdiWnqrKPoxSug</td>\n",
       "      <td>Absolute Bagels</td>\n",
       "      <td>1217</td>\n",
       "      <td>4.5</td>\n",
       "      <td>40.802510</td>\n",
       "      <td>-73.967450</td>\n",
       "      <td>True</td>\n",
       "    </tr>\n",
       "    <tr>\n",
       "      <th>1</th>\n",
       "      <td>QHYqNQhQ8NVK0RX68Y4PuQ</td>\n",
       "      <td>Levain Bakery</td>\n",
       "      <td>630</td>\n",
       "      <td>4.5</td>\n",
       "      <td>40.804974</td>\n",
       "      <td>-73.955151</td>\n",
       "      <td>True</td>\n",
       "    </tr>\n",
       "    <tr>\n",
       "      <th>2</th>\n",
       "      <td>8lLs3dsSN-Am2_EtNfbXqA</td>\n",
       "      <td>Community Food &amp; Juice</td>\n",
       "      <td>846</td>\n",
       "      <td>3.5</td>\n",
       "      <td>40.805798</td>\n",
       "      <td>-73.965675</td>\n",
       "      <td>True</td>\n",
       "    </tr>\n",
       "    <tr>\n",
       "      <th>3</th>\n",
       "      <td>vZ5-JXlJS75k8wmPNS5U5w</td>\n",
       "      <td>Max Soha</td>\n",
       "      <td>385</td>\n",
       "      <td>4.0</td>\n",
       "      <td>40.811302</td>\n",
       "      <td>-73.958183</td>\n",
       "      <td>True</td>\n",
       "    </tr>\n",
       "    <tr>\n",
       "      <th>4</th>\n",
       "      <td>8Qe6g3Dv5NXN1Zq-egJk9w</td>\n",
       "      <td>Hungarian Pastry Shop</td>\n",
       "      <td>596</td>\n",
       "      <td>3.5</td>\n",
       "      <td>40.803580</td>\n",
       "      <td>-73.963650</td>\n",
       "      <td>True</td>\n",
       "    </tr>\n",
       "    <tr>\n",
       "      <th>5</th>\n",
       "      <td>7tTVuBwJ4LLtQ3-HHW80_A</td>\n",
       "      <td>Riverside Park Conservancy</td>\n",
       "      <td>129</td>\n",
       "      <td>4.5</td>\n",
       "      <td>40.811131</td>\n",
       "      <td>-73.963874</td>\n",
       "      <td>True</td>\n",
       "    </tr>\n",
       "    <tr>\n",
       "      <th>6</th>\n",
       "      <td>E2mNgb479B3BCfwi2G_KdQ</td>\n",
       "      <td>Flat Top</td>\n",
       "      <td>403</td>\n",
       "      <td>4.0</td>\n",
       "      <td>40.810041</td>\n",
       "      <td>-73.958693</td>\n",
       "      <td>True</td>\n",
       "    </tr>\n",
       "    <tr>\n",
       "      <th>7</th>\n",
       "      <td>80fvd_DsoW5XhwQIMBGvtg</td>\n",
       "      <td>Cathedral Church of St John the Divine</td>\n",
       "      <td>157</td>\n",
       "      <td>4.5</td>\n",
       "      <td>40.803705</td>\n",
       "      <td>-73.963120</td>\n",
       "      <td>True</td>\n",
       "    </tr>\n",
       "    <tr>\n",
       "      <th>8</th>\n",
       "      <td>A46G2OAvLxFswiONB50Rrg</td>\n",
       "      <td>Koronet Pizza</td>\n",
       "      <td>589</td>\n",
       "      <td>3.5</td>\n",
       "      <td>40.804420</td>\n",
       "      <td>-73.966056</td>\n",
       "      <td>True</td>\n",
       "    </tr>\n",
       "    <tr>\n",
       "      <th>9</th>\n",
       "      <td>J9xVQScnr0lYWl61_mLXMA</td>\n",
       "      <td>Lido</td>\n",
       "      <td>873</td>\n",
       "      <td>4.0</td>\n",
       "      <td>40.804980</td>\n",
       "      <td>-73.954826</td>\n",
       "      <td>True</td>\n",
       "    </tr>\n",
       "  </tbody>\n",
       "</table>\n",
       "</div>"
      ],
      "text/plain": [
       "                       id                                    name  \\\n",
       "0  JV5oa5-KGdiWnqrKPoxSug                         Absolute Bagels   \n",
       "1  QHYqNQhQ8NVK0RX68Y4PuQ                           Levain Bakery   \n",
       "2  8lLs3dsSN-Am2_EtNfbXqA                  Community Food & Juice   \n",
       "3  vZ5-JXlJS75k8wmPNS5U5w                                Max Soha   \n",
       "4  8Qe6g3Dv5NXN1Zq-egJk9w                   Hungarian Pastry Shop   \n",
       "5  7tTVuBwJ4LLtQ3-HHW80_A              Riverside Park Conservancy   \n",
       "6  E2mNgb479B3BCfwi2G_KdQ                                Flat Top   \n",
       "7  80fvd_DsoW5XhwQIMBGvtg  Cathedral Church of St John the Divine   \n",
       "8  A46G2OAvLxFswiONB50Rrg                           Koronet Pizza   \n",
       "9  J9xVQScnr0lYWl61_mLXMA                                    Lido   \n",
       "\n",
       "   review_count  rating   latitude  longitude  open  \n",
       "0          1217     4.5  40.802510 -73.967450  True  \n",
       "1           630     4.5  40.804974 -73.955151  True  \n",
       "2           846     3.5  40.805798 -73.965675  True  \n",
       "3           385     4.0  40.811302 -73.958183  True  \n",
       "4           596     3.5  40.803580 -73.963650  True  \n",
       "5           129     4.5  40.811131 -73.963874  True  \n",
       "6           403     4.0  40.810041 -73.958693  True  \n",
       "7           157     4.5  40.803705 -73.963120  True  \n",
       "8           589     3.5  40.804420 -73.966056  True  \n",
       "9           873     4.0  40.804980 -73.954826  True  "
      ]
     },
     "execution_count": 11,
     "metadata": {},
     "output_type": "execute_result"
    }
   ],
   "source": [
    "tempdf"
   ]
  },
  {
   "cell_type": "code",
   "execution_count": 12,
   "metadata": {},
   "outputs": [
    {
     "data": {
      "text/html": [
       "<div>\n",
       "<style scoped>\n",
       "    .dataframe tbody tr th:only-of-type {\n",
       "        vertical-align: middle;\n",
       "    }\n",
       "\n",
       "    .dataframe tbody tr th {\n",
       "        vertical-align: top;\n",
       "    }\n",
       "\n",
       "    .dataframe thead th {\n",
       "        text-align: right;\n",
       "    }\n",
       "</style>\n",
       "<table border=\"1\" class=\"dataframe\">\n",
       "  <thead>\n",
       "    <tr style=\"text-align: right;\">\n",
       "      <th></th>\n",
       "      <th>id</th>\n",
       "      <th>categories</th>\n",
       "    </tr>\n",
       "  </thead>\n",
       "  <tbody>\n",
       "    <tr>\n",
       "      <th>0</th>\n",
       "      <td>JV5oa5-KGdiWnqrKPoxSug</td>\n",
       "      <td>{'alias': 'bakeries', 'title': 'Bakeries'}</td>\n",
       "    </tr>\n",
       "    <tr>\n",
       "      <th>1</th>\n",
       "      <td>JV5oa5-KGdiWnqrKPoxSug</td>\n",
       "      <td>{'alias': 'bagels', 'title': 'Bagels'}</td>\n",
       "    </tr>\n",
       "    <tr>\n",
       "      <th>2</th>\n",
       "      <td>QHYqNQhQ8NVK0RX68Y4PuQ</td>\n",
       "      <td>{'alias': 'bakeries', 'title': 'Bakeries'}</td>\n",
       "    </tr>\n",
       "    <tr>\n",
       "      <th>3</th>\n",
       "      <td>8lLs3dsSN-Am2_EtNfbXqA</td>\n",
       "      <td>{'alias': 'newamerican', 'title': 'American (N...</td>\n",
       "    </tr>\n",
       "    <tr>\n",
       "      <th>4</th>\n",
       "      <td>8lLs3dsSN-Am2_EtNfbXqA</td>\n",
       "      <td>{'alias': 'breakfast_brunch', 'title': 'Breakf...</td>\n",
       "    </tr>\n",
       "    <tr>\n",
       "      <th>5</th>\n",
       "      <td>8lLs3dsSN-Am2_EtNfbXqA</td>\n",
       "      <td>{'alias': 'bars', 'title': 'Bars'}</td>\n",
       "    </tr>\n",
       "    <tr>\n",
       "      <th>6</th>\n",
       "      <td>vZ5-JXlJS75k8wmPNS5U5w</td>\n",
       "      <td>{'alias': 'italian', 'title': 'Italian'}</td>\n",
       "    </tr>\n",
       "    <tr>\n",
       "      <th>7</th>\n",
       "      <td>8Qe6g3Dv5NXN1Zq-egJk9w</td>\n",
       "      <td>{'alias': 'bakeries', 'title': 'Bakeries'}</td>\n",
       "    </tr>\n",
       "    <tr>\n",
       "      <th>8</th>\n",
       "      <td>8Qe6g3Dv5NXN1Zq-egJk9w</td>\n",
       "      <td>{'alias': 'coffee', 'title': 'Coffee &amp; Tea'}</td>\n",
       "    </tr>\n",
       "    <tr>\n",
       "      <th>9</th>\n",
       "      <td>7tTVuBwJ4LLtQ3-HHW80_A</td>\n",
       "      <td>{'alias': 'parks', 'title': 'Parks'}</td>\n",
       "    </tr>\n",
       "    <tr>\n",
       "      <th>10</th>\n",
       "      <td>E2mNgb479B3BCfwi2G_KdQ</td>\n",
       "      <td>{'alias': 'newamerican', 'title': 'American (N...</td>\n",
       "    </tr>\n",
       "    <tr>\n",
       "      <th>11</th>\n",
       "      <td>E2mNgb479B3BCfwi2G_KdQ</td>\n",
       "      <td>{'alias': 'cafes', 'title': 'Cafes'}</td>\n",
       "    </tr>\n",
       "    <tr>\n",
       "      <th>12</th>\n",
       "      <td>E2mNgb479B3BCfwi2G_KdQ</td>\n",
       "      <td>{'alias': 'breakfast_brunch', 'title': 'Breakf...</td>\n",
       "    </tr>\n",
       "    <tr>\n",
       "      <th>13</th>\n",
       "      <td>80fvd_DsoW5XhwQIMBGvtg</td>\n",
       "      <td>{'alias': 'churches', 'title': 'Churches'}</td>\n",
       "    </tr>\n",
       "    <tr>\n",
       "      <th>14</th>\n",
       "      <td>80fvd_DsoW5XhwQIMBGvtg</td>\n",
       "      <td>{'alias': 'landmarks', 'title': 'Landmarks &amp; H...</td>\n",
       "    </tr>\n",
       "    <tr>\n",
       "      <th>15</th>\n",
       "      <td>A46G2OAvLxFswiONB50Rrg</td>\n",
       "      <td>{'alias': 'pizza', 'title': 'Pizza'}</td>\n",
       "    </tr>\n",
       "    <tr>\n",
       "      <th>16</th>\n",
       "      <td>J9xVQScnr0lYWl61_mLXMA</td>\n",
       "      <td>{'alias': 'italian', 'title': 'Italian'}</td>\n",
       "    </tr>\n",
       "    <tr>\n",
       "      <th>17</th>\n",
       "      <td>J9xVQScnr0lYWl61_mLXMA</td>\n",
       "      <td>{'alias': 'breakfast_brunch', 'title': 'Breakf...</td>\n",
       "    </tr>\n",
       "    <tr>\n",
       "      <th>18</th>\n",
       "      <td>J9xVQScnr0lYWl61_mLXMA</td>\n",
       "      <td>{'alias': 'cocktailbars', 'title': 'Cocktail B...</td>\n",
       "    </tr>\n",
       "  </tbody>\n",
       "</table>\n",
       "</div>"
      ],
      "text/plain": [
       "                        id                                         categories\n",
       "0   JV5oa5-KGdiWnqrKPoxSug         {'alias': 'bakeries', 'title': 'Bakeries'}\n",
       "1   JV5oa5-KGdiWnqrKPoxSug             {'alias': 'bagels', 'title': 'Bagels'}\n",
       "2   QHYqNQhQ8NVK0RX68Y4PuQ         {'alias': 'bakeries', 'title': 'Bakeries'}\n",
       "3   8lLs3dsSN-Am2_EtNfbXqA  {'alias': 'newamerican', 'title': 'American (N...\n",
       "4   8lLs3dsSN-Am2_EtNfbXqA  {'alias': 'breakfast_brunch', 'title': 'Breakf...\n",
       "5   8lLs3dsSN-Am2_EtNfbXqA                 {'alias': 'bars', 'title': 'Bars'}\n",
       "6   vZ5-JXlJS75k8wmPNS5U5w           {'alias': 'italian', 'title': 'Italian'}\n",
       "7   8Qe6g3Dv5NXN1Zq-egJk9w         {'alias': 'bakeries', 'title': 'Bakeries'}\n",
       "8   8Qe6g3Dv5NXN1Zq-egJk9w       {'alias': 'coffee', 'title': 'Coffee & Tea'}\n",
       "9   7tTVuBwJ4LLtQ3-HHW80_A               {'alias': 'parks', 'title': 'Parks'}\n",
       "10  E2mNgb479B3BCfwi2G_KdQ  {'alias': 'newamerican', 'title': 'American (N...\n",
       "11  E2mNgb479B3BCfwi2G_KdQ               {'alias': 'cafes', 'title': 'Cafes'}\n",
       "12  E2mNgb479B3BCfwi2G_KdQ  {'alias': 'breakfast_brunch', 'title': 'Breakf...\n",
       "13  80fvd_DsoW5XhwQIMBGvtg         {'alias': 'churches', 'title': 'Churches'}\n",
       "14  80fvd_DsoW5XhwQIMBGvtg  {'alias': 'landmarks', 'title': 'Landmarks & H...\n",
       "15  A46G2OAvLxFswiONB50Rrg               {'alias': 'pizza', 'title': 'Pizza'}\n",
       "16  J9xVQScnr0lYWl61_mLXMA           {'alias': 'italian', 'title': 'Italian'}\n",
       "17  J9xVQScnr0lYWl61_mLXMA  {'alias': 'breakfast_brunch', 'title': 'Breakf...\n",
       "18  J9xVQScnr0lYWl61_mLXMA  {'alias': 'cocktailbars', 'title': 'Cocktail B..."
      ]
     },
     "execution_count": 12,
     "metadata": {},
     "output_type": "execute_result"
    }
   ],
   "source": [
    "cat_tempdf"
   ]
  },
  {
   "cell_type": "code",
   "execution_count": 13,
   "metadata": {},
   "outputs": [],
   "source": [
    "location_ids = [location_id for location_id in cat_tempdf['id'].unique()]"
   ]
  },
  {
   "cell_type": "code",
   "execution_count": 14,
   "metadata": {},
   "outputs": [
    {
     "data": {
      "text/plain": [
       "['JV5oa5-KGdiWnqrKPoxSug',\n",
       " 'QHYqNQhQ8NVK0RX68Y4PuQ',\n",
       " '8lLs3dsSN-Am2_EtNfbXqA',\n",
       " 'vZ5-JXlJS75k8wmPNS5U5w',\n",
       " '8Qe6g3Dv5NXN1Zq-egJk9w',\n",
       " '7tTVuBwJ4LLtQ3-HHW80_A',\n",
       " 'E2mNgb479B3BCfwi2G_KdQ',\n",
       " '80fvd_DsoW5XhwQIMBGvtg',\n",
       " 'A46G2OAvLxFswiONB50Rrg',\n",
       " 'J9xVQScnr0lYWl61_mLXMA']"
      ]
     },
     "execution_count": 14,
     "metadata": {},
     "output_type": "execute_result"
    }
   ],
   "source": [
    "location_ids"
   ]
  },
  {
   "cell_type": "code",
   "execution_count": 15,
   "metadata": {},
   "outputs": [],
   "source": [
    "def collate_data(tempdf,location_id):\n",
    "    if isinstance(location_id, (list,)):\n",
    "        output=dict()\n",
    "        \n",
    "        for loc in location_id:\n",
    "            aliases = []\n",
    "            for i in tempdf[tempdf['id']==loc]['categories']:\n",
    "                aliases.append(i['alias'])\n",
    "            output[loc]=aliases\n",
    "        \n",
    "        return output\n",
    "    else:\n",
    "        aliases = []\n",
    "        for i in tempdf[tempdf['id']==location_id]['categories']:\n",
    "            aliases.append(i['alias'])\n",
    "        return {location_id: aliases}"
   ]
  },
  {
   "cell_type": "code",
   "execution_count": 16,
   "metadata": {},
   "outputs": [
    {
     "data": {
      "text/plain": [
       "{'JV5oa5-KGdiWnqrKPoxSug': ['bakeries', 'bagels'],\n",
       " 'QHYqNQhQ8NVK0RX68Y4PuQ': ['bakeries'],\n",
       " '8lLs3dsSN-Am2_EtNfbXqA': ['newamerican', 'breakfast_brunch', 'bars'],\n",
       " 'vZ5-JXlJS75k8wmPNS5U5w': ['italian'],\n",
       " '8Qe6g3Dv5NXN1Zq-egJk9w': ['bakeries', 'coffee'],\n",
       " '7tTVuBwJ4LLtQ3-HHW80_A': ['parks'],\n",
       " 'E2mNgb479B3BCfwi2G_KdQ': ['newamerican', 'cafes', 'breakfast_brunch'],\n",
       " '80fvd_DsoW5XhwQIMBGvtg': ['churches', 'landmarks'],\n",
       " 'A46G2OAvLxFswiONB50Rrg': ['pizza'],\n",
       " 'J9xVQScnr0lYWl61_mLXMA': ['italian', 'breakfast_brunch', 'cocktailbars']}"
      ]
     },
     "execution_count": 16,
     "metadata": {},
     "output_type": "execute_result"
    }
   ],
   "source": [
    "collate_data(cat_tempdf, location_ids)"
   ]
  },
  {
   "cell_type": "code",
   "execution_count": 17,
   "metadata": {},
   "outputs": [
    {
     "name": "stdout",
     "output_type": "stream",
     "text": [
      "Querying https://api.yelp.com/v3/businesses/QHYqNQhQ8NVK0RX68Y4PuQ/reviews ...\n"
     ]
    },
    {
     "data": {
      "text/plain": [
       "'https://www.yelp.com/biz/levain-bakery-new-york-3?hrid=Necub7tHWFyDhASlJfxTWA&adjust_creative=dLQC-YFBm9Sjlrw_1z9OTQ&utm_campaign=yelp_api_v3&utm_medium=api_v3_business_reviews&utm_source=dLQC-YFBm9Sjlrw_1z9OTQ'"
      ]
     },
     "execution_count": 17,
     "metadata": {},
     "output_type": "execute_result"
    }
   ],
   "source": [
    "get_reviews(location_ids[1])['reviews'][0]['url']"
   ]
  },
  {
   "cell_type": "markdown",
   "metadata": {},
   "source": [
    "Huh it seems to only return 3, how are we supposed to do sentiment analysis? This endpoint returns up to three review excerpts for a given business ordered by Yelp's default sort order. This can be edited with the search function."
   ]
  },
  {
   "cell_type": "markdown",
   "metadata": {},
   "source": [
    "## Geopandas"
   ]
  },
  {
   "cell_type": "code",
   "execution_count": 22,
   "metadata": {
    "scrolled": true
   },
   "outputs": [
    {
     "ename": "ImportError",
     "evalue": "cannot import name 'urlparse'",
     "output_type": "error",
     "traceback": [
      "\u001b[0;31m---------------------------------------------------------------------------\u001b[0m",
      "\u001b[0;31mImportError\u001b[0m                               Traceback (most recent call last)",
      "\u001b[0;32m<ipython-input-22-fc7d1d298f0c>\u001b[0m in \u001b[0;36m<module>\u001b[0;34m()\u001b[0m\n\u001b[0;32m----> 1\u001b[0;31m \u001b[0;32mimport\u001b[0m \u001b[0mgeopandas\u001b[0m\u001b[0;34m\u001b[0m\u001b[0;34m\u001b[0m\u001b[0m\n\u001b[0m",
      "\u001b[0;32m/anaconda3/lib/python3.6/site-packages/geopandas/__init__.py\u001b[0m in \u001b[0;36m<module>\u001b[0;34m()\u001b[0m\n\u001b[1;32m      2\u001b[0m \u001b[0;32mfrom\u001b[0m \u001b[0mgeopandas\u001b[0m\u001b[0;34m.\u001b[0m\u001b[0mgeodataframe\u001b[0m \u001b[0;32mimport\u001b[0m \u001b[0mGeoDataFrame\u001b[0m\u001b[0;34m\u001b[0m\u001b[0;34m\u001b[0m\u001b[0m\n\u001b[1;32m      3\u001b[0m \u001b[0;34m\u001b[0m\u001b[0m\n\u001b[0;32m----> 4\u001b[0;31m \u001b[0;32mfrom\u001b[0m \u001b[0mgeopandas\u001b[0m\u001b[0;34m.\u001b[0m\u001b[0mio\u001b[0m\u001b[0;34m.\u001b[0m\u001b[0mfile\u001b[0m \u001b[0;32mimport\u001b[0m \u001b[0mread_file\u001b[0m\u001b[0;34m\u001b[0m\u001b[0;34m\u001b[0m\u001b[0m\n\u001b[0m\u001b[1;32m      5\u001b[0m \u001b[0;32mfrom\u001b[0m \u001b[0mgeopandas\u001b[0m\u001b[0;34m.\u001b[0m\u001b[0mio\u001b[0m\u001b[0;34m.\u001b[0m\u001b[0msql\u001b[0m \u001b[0;32mimport\u001b[0m \u001b[0mread_postgis\u001b[0m\u001b[0;34m\u001b[0m\u001b[0;34m\u001b[0m\u001b[0m\n\u001b[1;32m      6\u001b[0m \u001b[0;32mfrom\u001b[0m \u001b[0mgeopandas\u001b[0m\u001b[0;34m.\u001b[0m\u001b[0mtools\u001b[0m \u001b[0;32mimport\u001b[0m \u001b[0msjoin\u001b[0m\u001b[0;34m\u001b[0m\u001b[0;34m\u001b[0m\u001b[0m\n",
      "\u001b[0;32m/anaconda3/lib/python3.6/site-packages/geopandas/io/file.py\u001b[0m in \u001b[0;36m<module>\u001b[0;34m()\u001b[0m\n\u001b[1;32m      1\u001b[0m \u001b[0;32mimport\u001b[0m \u001b[0mos\u001b[0m\u001b[0;34m\u001b[0m\u001b[0;34m\u001b[0m\u001b[0m\n\u001b[1;32m      2\u001b[0m \u001b[0;34m\u001b[0m\u001b[0m\n\u001b[0;32m----> 3\u001b[0;31m \u001b[0;32mimport\u001b[0m \u001b[0mfiona\u001b[0m\u001b[0;34m\u001b[0m\u001b[0;34m\u001b[0m\u001b[0m\n\u001b[0m\u001b[1;32m      4\u001b[0m \u001b[0;32mimport\u001b[0m \u001b[0mnumpy\u001b[0m \u001b[0;32mas\u001b[0m \u001b[0mnp\u001b[0m\u001b[0;34m\u001b[0m\u001b[0;34m\u001b[0m\u001b[0m\n\u001b[1;32m      5\u001b[0m \u001b[0;32mimport\u001b[0m \u001b[0msix\u001b[0m\u001b[0;34m\u001b[0m\u001b[0;34m\u001b[0m\u001b[0m\n",
      "\u001b[0;32m/anaconda3/lib/python3.6/site-packages/fiona/__init__.py\u001b[0m in \u001b[0;36m<module>\u001b[0;34m()\u001b[0m\n\u001b[1;32m     81\u001b[0m     \u001b[0mos\u001b[0m\u001b[0;34m.\u001b[0m\u001b[0menviron\u001b[0m\u001b[0;34m[\u001b[0m\u001b[0;34m\"PATH\"\u001b[0m\u001b[0;34m]\u001b[0m \u001b[0;34m=\u001b[0m \u001b[0mos\u001b[0m\u001b[0;34m.\u001b[0m\u001b[0menviron\u001b[0m\u001b[0;34m[\u001b[0m\u001b[0;34m\"PATH\"\u001b[0m\u001b[0;34m]\u001b[0m \u001b[0;34m+\u001b[0m \u001b[0;34m\";\"\u001b[0m \u001b[0;34m+\u001b[0m \u001b[0mlibdir\u001b[0m\u001b[0;34m\u001b[0m\u001b[0;34m\u001b[0m\u001b[0m\n\u001b[1;32m     82\u001b[0m \u001b[0;34m\u001b[0m\u001b[0m\n\u001b[0;32m---> 83\u001b[0;31m \u001b[0;32mfrom\u001b[0m \u001b[0mfiona\u001b[0m\u001b[0;34m.\u001b[0m\u001b[0mcollection\u001b[0m \u001b[0;32mimport\u001b[0m \u001b[0mBytesCollection\u001b[0m\u001b[0;34m,\u001b[0m \u001b[0mCollection\u001b[0m\u001b[0;34m\u001b[0m\u001b[0;34m\u001b[0m\u001b[0m\n\u001b[0m\u001b[1;32m     84\u001b[0m \u001b[0;32mfrom\u001b[0m \u001b[0mfiona\u001b[0m\u001b[0;34m.\u001b[0m\u001b[0mdrvsupport\u001b[0m \u001b[0;32mimport\u001b[0m \u001b[0msupported_drivers\u001b[0m\u001b[0;34m\u001b[0m\u001b[0;34m\u001b[0m\u001b[0m\n\u001b[1;32m     85\u001b[0m \u001b[0;32mfrom\u001b[0m \u001b[0mfiona\u001b[0m\u001b[0;34m.\u001b[0m\u001b[0menv\u001b[0m \u001b[0;32mimport\u001b[0m \u001b[0mensure_env_with_credentials\u001b[0m\u001b[0;34m,\u001b[0m \u001b[0mEnv\u001b[0m\u001b[0;34m\u001b[0m\u001b[0;34m\u001b[0m\u001b[0m\n",
      "\u001b[0;32m/anaconda3/lib/python3.6/site-packages/fiona/collection.py\u001b[0m in \u001b[0;36m<module>\u001b[0;34m()\u001b[0m\n\u001b[1;32m      6\u001b[0m \u001b[0;32mimport\u001b[0m \u001b[0mwarnings\u001b[0m\u001b[0;34m\u001b[0m\u001b[0;34m\u001b[0m\u001b[0m\n\u001b[1;32m      7\u001b[0m \u001b[0;34m\u001b[0m\u001b[0m\n\u001b[0;32m----> 8\u001b[0;31m \u001b[0;32mfrom\u001b[0m \u001b[0mfiona\u001b[0m \u001b[0;32mimport\u001b[0m \u001b[0mcompat\u001b[0m\u001b[0;34m,\u001b[0m \u001b[0mvfs\u001b[0m\u001b[0;34m\u001b[0m\u001b[0;34m\u001b[0m\u001b[0m\n\u001b[0m\u001b[1;32m      9\u001b[0m \u001b[0;32mfrom\u001b[0m \u001b[0mfiona\u001b[0m\u001b[0;34m.\u001b[0m\u001b[0mogrext\u001b[0m \u001b[0;32mimport\u001b[0m \u001b[0mIterator\u001b[0m\u001b[0;34m,\u001b[0m \u001b[0mItemsIterator\u001b[0m\u001b[0;34m,\u001b[0m \u001b[0mKeysIterator\u001b[0m\u001b[0;34m\u001b[0m\u001b[0;34m\u001b[0m\u001b[0m\n\u001b[1;32m     10\u001b[0m \u001b[0;32mfrom\u001b[0m \u001b[0mfiona\u001b[0m\u001b[0;34m.\u001b[0m\u001b[0mogrext\u001b[0m \u001b[0;32mimport\u001b[0m \u001b[0mSession\u001b[0m\u001b[0;34m,\u001b[0m \u001b[0mWritingSession\u001b[0m\u001b[0;34m\u001b[0m\u001b[0;34m\u001b[0m\u001b[0m\n",
      "\u001b[0;32m/anaconda3/lib/python3.6/site-packages/fiona/vfs.py\u001b[0m in \u001b[0;36m<module>\u001b[0;34m()\u001b[0m\n\u001b[1;32m      4\u001b[0m \u001b[0;32mimport\u001b[0m \u001b[0msys\u001b[0m\u001b[0;34m\u001b[0m\u001b[0;34m\u001b[0m\u001b[0m\n\u001b[1;32m      5\u001b[0m \u001b[0;32mimport\u001b[0m \u001b[0mre\u001b[0m\u001b[0;34m\u001b[0m\u001b[0;34m\u001b[0m\u001b[0m\n\u001b[0;32m----> 6\u001b[0;31m \u001b[0;32mfrom\u001b[0m \u001b[0mfiona\u001b[0m\u001b[0;34m.\u001b[0m\u001b[0mcompat\u001b[0m \u001b[0;32mimport\u001b[0m \u001b[0murlparse\u001b[0m\u001b[0;34m\u001b[0m\u001b[0;34m\u001b[0m\u001b[0m\n\u001b[0m\u001b[1;32m      7\u001b[0m \u001b[0;34m\u001b[0m\u001b[0m\n\u001b[1;32m      8\u001b[0m \u001b[0;34m\u001b[0m\u001b[0m\n",
      "\u001b[0;31mImportError\u001b[0m: cannot import name 'urlparse'"
     ]
    }
   ],
   "source": [
    "import geopandas"
   ]
  },
  {
   "cell_type": "code",
   "execution_count": 20,
   "metadata": {},
   "outputs": [
    {
     "ename": "ImportError",
     "evalue": "dlopen(/anaconda3/lib/python3.6/site-packages/fiona/ogrext.cpython-36m-darwin.so, 2): Library not loaded: @rpath/libpoppler.71.dylib\n  Referenced from: /anaconda3/lib/libgdal.20.dylib\n  Reason: image not found",
     "output_type": "error",
     "traceback": [
      "\u001b[0;31m---------------------------------------------------------------------------\u001b[0m",
      "\u001b[0;31mImportError\u001b[0m                               Traceback (most recent call last)",
      "\u001b[0;32m<ipython-input-20-ae8db07794fa>\u001b[0m in \u001b[0;36m<module>\u001b[0;34m()\u001b[0m\n\u001b[0;32m----> 1\u001b[0;31m \u001b[0;32mfrom\u001b[0m \u001b[0mgeopandas\u001b[0m \u001b[0;32mimport\u001b[0m \u001b[0mGeoDataFrame\u001b[0m\u001b[0;34m\u001b[0m\u001b[0;34m\u001b[0m\u001b[0m\n\u001b[0m\u001b[1;32m      2\u001b[0m \u001b[0;32mfrom\u001b[0m \u001b[0mgeojsonio\u001b[0m \u001b[0;32mimport\u001b[0m \u001b[0mdisplay\u001b[0m\u001b[0;34m\u001b[0m\u001b[0;34m\u001b[0m\u001b[0m\n\u001b[1;32m      3\u001b[0m \u001b[0;34m\u001b[0m\u001b[0m\n\u001b[1;32m      4\u001b[0m \u001b[0;34m\u001b[0m\u001b[0m\n\u001b[1;32m      5\u001b[0m \u001b[0;32mclass\u001b[0m \u001b[0mRestaurants\u001b[0m\u001b[0;34m(\u001b[0m\u001b[0mobject\u001b[0m\u001b[0;34m)\u001b[0m\u001b[0;34m:\u001b[0m\u001b[0;34m\u001b[0m\u001b[0;34m\u001b[0m\u001b[0m\n",
      "\u001b[0;32m/anaconda3/lib/python3.6/site-packages/geopandas/__init__.py\u001b[0m in \u001b[0;36m<module>\u001b[0;34m()\u001b[0m\n\u001b[1;32m      2\u001b[0m \u001b[0;32mfrom\u001b[0m \u001b[0mgeopandas\u001b[0m\u001b[0;34m.\u001b[0m\u001b[0mgeodataframe\u001b[0m \u001b[0;32mimport\u001b[0m \u001b[0mGeoDataFrame\u001b[0m\u001b[0;34m\u001b[0m\u001b[0;34m\u001b[0m\u001b[0m\n\u001b[1;32m      3\u001b[0m \u001b[0;34m\u001b[0m\u001b[0m\n\u001b[0;32m----> 4\u001b[0;31m \u001b[0;32mfrom\u001b[0m \u001b[0mgeopandas\u001b[0m\u001b[0;34m.\u001b[0m\u001b[0mio\u001b[0m\u001b[0;34m.\u001b[0m\u001b[0mfile\u001b[0m \u001b[0;32mimport\u001b[0m \u001b[0mread_file\u001b[0m\u001b[0;34m\u001b[0m\u001b[0;34m\u001b[0m\u001b[0m\n\u001b[0m\u001b[1;32m      5\u001b[0m \u001b[0;32mfrom\u001b[0m \u001b[0mgeopandas\u001b[0m\u001b[0;34m.\u001b[0m\u001b[0mio\u001b[0m\u001b[0;34m.\u001b[0m\u001b[0msql\u001b[0m \u001b[0;32mimport\u001b[0m \u001b[0mread_postgis\u001b[0m\u001b[0;34m\u001b[0m\u001b[0;34m\u001b[0m\u001b[0m\n\u001b[1;32m      6\u001b[0m \u001b[0;32mfrom\u001b[0m \u001b[0mgeopandas\u001b[0m\u001b[0;34m.\u001b[0m\u001b[0mtools\u001b[0m \u001b[0;32mimport\u001b[0m \u001b[0msjoin\u001b[0m\u001b[0;34m\u001b[0m\u001b[0;34m\u001b[0m\u001b[0m\n",
      "\u001b[0;32m/anaconda3/lib/python3.6/site-packages/geopandas/io/file.py\u001b[0m in \u001b[0;36m<module>\u001b[0;34m()\u001b[0m\n\u001b[1;32m      1\u001b[0m \u001b[0;32mimport\u001b[0m \u001b[0mos\u001b[0m\u001b[0;34m\u001b[0m\u001b[0;34m\u001b[0m\u001b[0m\n\u001b[1;32m      2\u001b[0m \u001b[0;34m\u001b[0m\u001b[0m\n\u001b[0;32m----> 3\u001b[0;31m \u001b[0;32mimport\u001b[0m \u001b[0mfiona\u001b[0m\u001b[0;34m\u001b[0m\u001b[0;34m\u001b[0m\u001b[0m\n\u001b[0m\u001b[1;32m      4\u001b[0m \u001b[0;32mimport\u001b[0m \u001b[0mnumpy\u001b[0m \u001b[0;32mas\u001b[0m \u001b[0mnp\u001b[0m\u001b[0;34m\u001b[0m\u001b[0;34m\u001b[0m\u001b[0m\n\u001b[1;32m      5\u001b[0m \u001b[0;32mimport\u001b[0m \u001b[0msix\u001b[0m\u001b[0;34m\u001b[0m\u001b[0;34m\u001b[0m\u001b[0m\n",
      "\u001b[0;32m/anaconda3/lib/python3.6/site-packages/fiona/__init__.py\u001b[0m in \u001b[0;36m<module>\u001b[0;34m()\u001b[0m\n\u001b[1;32m     67\u001b[0m \u001b[0;32mfrom\u001b[0m \u001b[0msix\u001b[0m \u001b[0;32mimport\u001b[0m \u001b[0mstring_types\u001b[0m\u001b[0;34m\u001b[0m\u001b[0;34m\u001b[0m\u001b[0m\n\u001b[1;32m     68\u001b[0m \u001b[0;34m\u001b[0m\u001b[0m\n\u001b[0;32m---> 69\u001b[0;31m \u001b[0;32mfrom\u001b[0m \u001b[0mfiona\u001b[0m\u001b[0;34m.\u001b[0m\u001b[0mcollection\u001b[0m \u001b[0;32mimport\u001b[0m \u001b[0mCollection\u001b[0m\u001b[0;34m,\u001b[0m \u001b[0mBytesCollection\u001b[0m\u001b[0;34m,\u001b[0m \u001b[0mvsi_path\u001b[0m\u001b[0;34m\u001b[0m\u001b[0;34m\u001b[0m\u001b[0m\n\u001b[0m\u001b[1;32m     70\u001b[0m \u001b[0;32mfrom\u001b[0m \u001b[0mfiona\u001b[0m\u001b[0;34m.\u001b[0m\u001b[0m_drivers\u001b[0m \u001b[0;32mimport\u001b[0m \u001b[0mdriver_count\u001b[0m\u001b[0;34m,\u001b[0m \u001b[0mGDALEnv\u001b[0m\u001b[0;34m\u001b[0m\u001b[0;34m\u001b[0m\u001b[0m\n\u001b[1;32m     71\u001b[0m \u001b[0;32mfrom\u001b[0m \u001b[0mfiona\u001b[0m\u001b[0;34m.\u001b[0m\u001b[0mdrvsupport\u001b[0m \u001b[0;32mimport\u001b[0m \u001b[0msupported_drivers\u001b[0m\u001b[0;34m\u001b[0m\u001b[0;34m\u001b[0m\u001b[0m\n",
      "\u001b[0;32m/anaconda3/lib/python3.6/site-packages/fiona/collection.py\u001b[0m in \u001b[0;36m<module>\u001b[0;34m()\u001b[0m\n\u001b[1;32m      7\u001b[0m \u001b[0;34m\u001b[0m\u001b[0m\n\u001b[1;32m      8\u001b[0m \u001b[0;32mfrom\u001b[0m \u001b[0mfiona\u001b[0m \u001b[0;32mimport\u001b[0m \u001b[0mcompat\u001b[0m\u001b[0;34m\u001b[0m\u001b[0;34m\u001b[0m\u001b[0m\n\u001b[0;32m----> 9\u001b[0;31m \u001b[0;32mfrom\u001b[0m \u001b[0mfiona\u001b[0m\u001b[0;34m.\u001b[0m\u001b[0mogrext\u001b[0m \u001b[0;32mimport\u001b[0m \u001b[0mIterator\u001b[0m\u001b[0;34m,\u001b[0m \u001b[0mItemsIterator\u001b[0m\u001b[0;34m,\u001b[0m \u001b[0mKeysIterator\u001b[0m\u001b[0;34m\u001b[0m\u001b[0;34m\u001b[0m\u001b[0m\n\u001b[0m\u001b[1;32m     10\u001b[0m \u001b[0;32mfrom\u001b[0m \u001b[0mfiona\u001b[0m\u001b[0;34m.\u001b[0m\u001b[0mogrext\u001b[0m \u001b[0;32mimport\u001b[0m \u001b[0mSession\u001b[0m\u001b[0;34m,\u001b[0m \u001b[0mWritingSession\u001b[0m\u001b[0;34m\u001b[0m\u001b[0;34m\u001b[0m\u001b[0m\n\u001b[1;32m     11\u001b[0m from fiona.ogrext import (\n",
      "\u001b[0;31mImportError\u001b[0m: dlopen(/anaconda3/lib/python3.6/site-packages/fiona/ogrext.cpython-36m-darwin.so, 2): Library not loaded: @rpath/libpoppler.71.dylib\n  Referenced from: /anaconda3/lib/libgdal.20.dylib\n  Reason: image not found"
     ]
    }
   ],
   "source": [
    "from geopandas import GeoDataFrame\n",
    "from geojsonio import display\n",
    "\n",
    "\n",
    "class Restaurants(object):\n",
    "    \n",
    "    # filename: file with list of bubble tea places and addresses\n",
    "    def __init__(self, dataframe):\n",
    "        self.dataframe = dataframe\n",
    "\n",
    "    # new code here\n",
    "    def visualizeLocation(self):\n",
    "        Points = [Point(xy) for xy in zip(self.boba.Longitude, self.boba.Lat)]\n",
    "        updated = Points\n",
    "        display(updated.to_json()) "
   ]
  },
  {
   "cell_type": "markdown",
   "metadata": {},
   "source": [
    "## Sentiment Analysis"
   ]
  },
  {
   "cell_type": "code",
   "execution_count": 181,
   "metadata": {},
   "outputs": [],
   "source": [
    "from sklearn.feature_extraction.text import TfidfVectorizer"
   ]
  },
  {
   "cell_type": "code",
   "execution_count": null,
   "metadata": {},
   "outputs": [],
   "source": []
  },
  {
   "cell_type": "markdown",
   "metadata": {},
   "source": [
    "## Bayesian Estimation"
   ]
  },
  {
   "cell_type": "code",
   "execution_count": null,
   "metadata": {},
   "outputs": [],
   "source": []
  },
  {
   "cell_type": "markdown",
   "metadata": {},
   "source": [
    "## Picking Restaurants with ML"
   ]
  },
  {
   "cell_type": "code",
   "execution_count": null,
   "metadata": {},
   "outputs": [],
   "source": []
  },
  {
   "cell_type": "markdown",
   "metadata": {},
   "source": [
    "## Location Visualization"
   ]
  },
  {
   "cell_type": "code",
   "execution_count": null,
   "metadata": {},
   "outputs": [],
   "source": []
  }
 ],
 "metadata": {
  "kernelspec": {
   "display_name": "Python 3",
   "language": "python",
   "name": "python3"
  },
  "language_info": {
   "codemirror_mode": {
    "name": "ipython",
    "version": 3
   },
   "file_extension": ".py",
   "mimetype": "text/x-python",
   "name": "python",
   "nbconvert_exporter": "python",
   "pygments_lexer": "ipython3",
   "version": "3.6.7"
  }
 },
 "nbformat": 4,
 "nbformat_minor": 2
}
